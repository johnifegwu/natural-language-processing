{
  "cells": [
    {
      "cell_type": "markdown",
      "metadata": {
        "id": "15EatDy5yxEI"
      },
      "source": [
        "#Analyze Customer Feedback\n",
        "\n",
        "In this exercise, we analyze customer feedback using spaCy and TextBlob."
      ]
    },
    {
      "cell_type": "markdown",
      "source": [
        "#Exercise #1:  Install Libraries and Modules\n",
        "\n"
      ],
      "metadata": {
        "id": "xfkLj86ioXxy"
      }
    },
    {
      "cell_type": "code",
      "execution_count": 1,
      "metadata": {
        "id": "aQZzfNqQkdfW"
      },
      "outputs": [],
      "source": [
        "# Install Libraries and Modules\n",
        "\n",
        "\n",
        "import spacy\n",
        "from textblob import TextBlob\n",
        "import pandas as pd\n",
        "import csv\n",
        "\n",
        "import seaborn as sns\n",
        "import matplotlib.pyplot as plt\n",
        "\n",
        "\n",
        "\n"
      ]
    },
    {
      "cell_type": "markdown",
      "source": [
        "#Exercise #2: Read in Feedback File and Create Output File for Results"
      ],
      "metadata": {
        "id": "TElJA9XWLMrm"
      }
    },
    {
      "cell_type": "code",
      "source": [
        "\n",
        "# Load the English NLP model\n",
        "nlp = spacy.load(\"en_core_web_sm\")\n",
        "\n",
        "\n",
        "#Define the path to the file containing feedback\n",
        "file_path = '/content/feedback_data.csv'\n",
        "\n",
        "# Read the file using open() with the specified parameters\n",
        "with open(file_path, \"r\", encoding=\"utf-8\") as file:\n",
        "    # Step 2: Read the lines of the file\n",
        "    feedback_data = file.readlines()\n",
        "\n",
        "# Add code to output feedback results to a file.\n",
        "output_csv_path = \"feedback_analysis_results.csv\"\n",
        "\n",
        "# Prepare CSV header\n",
        "csv_header = [\"Feedback Index\", \"Sentiment Polarity\", \"Sentiment Subjectivity\", \"Named Entities\", \"Preferred Contact Method\"]\n",
        "\n",
        "# Open CSV file for writing\n",
        "with open(output_csv_path, \"w\", newline=\"\", encoding=\"utf-8\") as csv_file:\n",
        "    # Create CSV writer\n",
        "    csv_writer = csv.writer(csv_file)\n",
        "\n",
        "    # Write the header\n",
        "    csv_writer.writerow(csv_header)\n",
        "\n",
        "#-----------------------------------------------------------------\n",
        "# SOLUTION\n",
        "\n",
        "# Process and analyze each feedback\n",
        "    for idx, narrative in enumerate(feedback_data, start=1):\n",
        "      print(f\"\\nProcessing Feedback {idx}:\")\n",
        "      print(\"------------------------------\")\n",
        "      print(narrative.strip())\n",
        "\n",
        "# Process the narrative using spaCy\n",
        "      doc = nlp(narrative)\n",
        "\n",
        "# Perform sentiment analysis using TextBlob\n",
        "      blob = TextBlob(narrative)\n",
        "      sentiment_polarity = blob.sentiment.polarity\n",
        "      sentiment_subjectivity = blob.sentiment.subjectivity\n",
        "      print(f\"Sentiment: {sentiment_polarity} (Polarity), {sentiment_subjectivity} (Subjectivity)\")\n",
        "\n",
        "# Extract named entities\n",
        "      entities = [(ent.text, ent.label_) for ent in doc.ents]\n",
        "      print(\"Named Entities:\", entities)\n",
        "\n",
        "# Determine the preferred contact method\n",
        "      preferred_contact_method = \"chat\" if \"email\" not in narrative.lower() else \"email\"\n",
        "      print(f\"Preferred Contact Method: {preferred_contact_method}\")\n",
        "\n",
        "# Write the results to the CSV file\n",
        "      csv_writer.writerow([idx, sentiment_polarity, sentiment_subjectivity, entities, preferred_contact_method])\n"
      ],
      "metadata": {
        "id": "mjkLcZRHQk0t",
        "colab": {
          "base_uri": "https://localhost:8080/"
        },
        "outputId": "a718c770-f86d-4a13-e904-27f573393eb3"
      },
      "execution_count": 2,
      "outputs": [
        {
          "output_type": "stream",
          "name": "stdout",
          "text": [
            "\n",
            "Processing Feedback 1:\n",
            "------------------------------\n",
            "Your products are excellent. I really love the quality! However, delivery to my location in Los Angeles was a bit slow. abbey@email.com\n",
            "Sentiment: 0.44166666666666665 (Polarity), 0.6666666666666666 (Subjectivity)\n",
            "Named Entities: [('Los Angeles', 'GPE')]\n",
            "Preferred Contact Method: email\n",
            "\n",
            "Processing Feedback 2:\n",
            "------------------------------\n",
            "The customer service team in New York was helpful in resolving my issue. I appreciate the assistance. brian@email.com\n",
            "Sentiment: 0.13636363636363635 (Polarity), 0.45454545454545453 (Subjectivity)\n",
            "Named Entities: [('New York', 'GPE')]\n",
            "Preferred Contact Method: email\n",
            "\n",
            "Processing Feedback 3:\n",
            "------------------------------\n",
            "The new features in the latest release are fantastic! They have greatly improved the user experience in San Francisco.\n",
            "Sentiment: 0.48409090909090907 (Polarity), 0.7511363636363636 (Subjectivity)\n",
            "Named Entities: [('San Francisco', 'GPE')]\n",
            "Preferred Contact Method: chat\n",
            "\n",
            "Processing Feedback 4:\n",
            "------------------------------\n",
            "The product didn't meet my expectations, and I'm disappointed. I hope you can address the issues in Chicago. My email address is emailme@email.com\n",
            "Sentiment: -0.75 (Polarity), 0.75 (Subjectivity)\n",
            "Named Entities: [('Chicago', 'GPE')]\n",
            "Preferred Contact Method: email\n"
          ]
        }
      ]
    },
    {
      "cell_type": "markdown",
      "metadata": {
        "id": "l7hiWdrojvK_"
      },
      "source": [
        "#Exercise #3:  Exploratory Data Analysis on Customer Feedback"
      ]
    },
    {
      "cell_type": "code",
      "execution_count": 3,
      "metadata": {
        "id": "c3VdXX05nCw0",
        "colab": {
          "base_uri": "https://localhost:8080/",
          "height": 174
        },
        "outputId": "7a630617-7e22-48ac-de31-514f2cd6a8cf"
      },
      "outputs": [
        {
          "output_type": "execute_result",
          "data": {
            "text/plain": [
              "   Feedback Index  Sentiment Polarity  Sentiment Subjectivity  \\\n",
              "0               1            0.441667                0.666667   \n",
              "1               2            0.136364                0.454545   \n",
              "2               3            0.484091                0.751136   \n",
              "3               4           -0.750000                0.750000   \n",
              "\n",
              "               Named Entities Preferred Contact Method  \n",
              "0    [('Los Angeles', 'GPE')]                    email  \n",
              "1       [('New York', 'GPE')]                    email  \n",
              "2  [('San Francisco', 'GPE')]                     chat  \n",
              "3        [('Chicago', 'GPE')]                    email  "
            ],
            "text/html": [
              "\n",
              "  <div id=\"df-fdb85db2-4bdb-453c-8b89-e11076de87b9\" class=\"colab-df-container\">\n",
              "    <div>\n",
              "<style scoped>\n",
              "    .dataframe tbody tr th:only-of-type {\n",
              "        vertical-align: middle;\n",
              "    }\n",
              "\n",
              "    .dataframe tbody tr th {\n",
              "        vertical-align: top;\n",
              "    }\n",
              "\n",
              "    .dataframe thead th {\n",
              "        text-align: right;\n",
              "    }\n",
              "</style>\n",
              "<table border=\"1\" class=\"dataframe\">\n",
              "  <thead>\n",
              "    <tr style=\"text-align: right;\">\n",
              "      <th></th>\n",
              "      <th>Feedback Index</th>\n",
              "      <th>Sentiment Polarity</th>\n",
              "      <th>Sentiment Subjectivity</th>\n",
              "      <th>Named Entities</th>\n",
              "      <th>Preferred Contact Method</th>\n",
              "    </tr>\n",
              "  </thead>\n",
              "  <tbody>\n",
              "    <tr>\n",
              "      <th>0</th>\n",
              "      <td>1</td>\n",
              "      <td>0.441667</td>\n",
              "      <td>0.666667</td>\n",
              "      <td>[('Los Angeles', 'GPE')]</td>\n",
              "      <td>email</td>\n",
              "    </tr>\n",
              "    <tr>\n",
              "      <th>1</th>\n",
              "      <td>2</td>\n",
              "      <td>0.136364</td>\n",
              "      <td>0.454545</td>\n",
              "      <td>[('New York', 'GPE')]</td>\n",
              "      <td>email</td>\n",
              "    </tr>\n",
              "    <tr>\n",
              "      <th>2</th>\n",
              "      <td>3</td>\n",
              "      <td>0.484091</td>\n",
              "      <td>0.751136</td>\n",
              "      <td>[('San Francisco', 'GPE')]</td>\n",
              "      <td>chat</td>\n",
              "    </tr>\n",
              "    <tr>\n",
              "      <th>3</th>\n",
              "      <td>4</td>\n",
              "      <td>-0.750000</td>\n",
              "      <td>0.750000</td>\n",
              "      <td>[('Chicago', 'GPE')]</td>\n",
              "      <td>email</td>\n",
              "    </tr>\n",
              "  </tbody>\n",
              "</table>\n",
              "</div>\n",
              "    <div class=\"colab-df-buttons\">\n",
              "\n",
              "  <div class=\"colab-df-container\">\n",
              "    <button class=\"colab-df-convert\" onclick=\"convertToInteractive('df-fdb85db2-4bdb-453c-8b89-e11076de87b9')\"\n",
              "            title=\"Convert this dataframe to an interactive table.\"\n",
              "            style=\"display:none;\">\n",
              "\n",
              "  <svg xmlns=\"http://www.w3.org/2000/svg\" height=\"24px\" viewBox=\"0 -960 960 960\">\n",
              "    <path d=\"M120-120v-720h720v720H120Zm60-500h600v-160H180v160Zm220 220h160v-160H400v160Zm0 220h160v-160H400v160ZM180-400h160v-160H180v160Zm440 0h160v-160H620v160ZM180-180h160v-160H180v160Zm440 0h160v-160H620v160Z\"/>\n",
              "  </svg>\n",
              "    </button>\n",
              "\n",
              "  <style>\n",
              "    .colab-df-container {\n",
              "      display:flex;\n",
              "      gap: 12px;\n",
              "    }\n",
              "\n",
              "    .colab-df-convert {\n",
              "      background-color: #E8F0FE;\n",
              "      border: none;\n",
              "      border-radius: 50%;\n",
              "      cursor: pointer;\n",
              "      display: none;\n",
              "      fill: #1967D2;\n",
              "      height: 32px;\n",
              "      padding: 0 0 0 0;\n",
              "      width: 32px;\n",
              "    }\n",
              "\n",
              "    .colab-df-convert:hover {\n",
              "      background-color: #E2EBFA;\n",
              "      box-shadow: 0px 1px 2px rgba(60, 64, 67, 0.3), 0px 1px 3px 1px rgba(60, 64, 67, 0.15);\n",
              "      fill: #174EA6;\n",
              "    }\n",
              "\n",
              "    .colab-df-buttons div {\n",
              "      margin-bottom: 4px;\n",
              "    }\n",
              "\n",
              "    [theme=dark] .colab-df-convert {\n",
              "      background-color: #3B4455;\n",
              "      fill: #D2E3FC;\n",
              "    }\n",
              "\n",
              "    [theme=dark] .colab-df-convert:hover {\n",
              "      background-color: #434B5C;\n",
              "      box-shadow: 0px 1px 3px 1px rgba(0, 0, 0, 0.15);\n",
              "      filter: drop-shadow(0px 1px 2px rgba(0, 0, 0, 0.3));\n",
              "      fill: #FFFFFF;\n",
              "    }\n",
              "  </style>\n",
              "\n",
              "    <script>\n",
              "      const buttonEl =\n",
              "        document.querySelector('#df-fdb85db2-4bdb-453c-8b89-e11076de87b9 button.colab-df-convert');\n",
              "      buttonEl.style.display =\n",
              "        google.colab.kernel.accessAllowed ? 'block' : 'none';\n",
              "\n",
              "      async function convertToInteractive(key) {\n",
              "        const element = document.querySelector('#df-fdb85db2-4bdb-453c-8b89-e11076de87b9');\n",
              "        const dataTable =\n",
              "          await google.colab.kernel.invokeFunction('convertToInteractive',\n",
              "                                                    [key], {});\n",
              "        if (!dataTable) return;\n",
              "\n",
              "        const docLinkHtml = 'Like what you see? Visit the ' +\n",
              "          '<a target=\"_blank\" href=https://colab.research.google.com/notebooks/data_table.ipynb>data table notebook</a>'\n",
              "          + ' to learn more about interactive tables.';\n",
              "        element.innerHTML = '';\n",
              "        dataTable['output_type'] = 'display_data';\n",
              "        await google.colab.output.renderOutput(dataTable, element);\n",
              "        const docLink = document.createElement('div');\n",
              "        docLink.innerHTML = docLinkHtml;\n",
              "        element.appendChild(docLink);\n",
              "      }\n",
              "    </script>\n",
              "  </div>\n",
              "\n",
              "\n",
              "<div id=\"df-0cf0ea79-594c-4732-9cfc-63c16cd8689b\">\n",
              "  <button class=\"colab-df-quickchart\" onclick=\"quickchart('df-0cf0ea79-594c-4732-9cfc-63c16cd8689b')\"\n",
              "            title=\"Suggest charts\"\n",
              "            style=\"display:none;\">\n",
              "\n",
              "<svg xmlns=\"http://www.w3.org/2000/svg\" height=\"24px\"viewBox=\"0 0 24 24\"\n",
              "     width=\"24px\">\n",
              "    <g>\n",
              "        <path d=\"M19 3H5c-1.1 0-2 .9-2 2v14c0 1.1.9 2 2 2h14c1.1 0 2-.9 2-2V5c0-1.1-.9-2-2-2zM9 17H7v-7h2v7zm4 0h-2V7h2v10zm4 0h-2v-4h2v4z\"/>\n",
              "    </g>\n",
              "</svg>\n",
              "  </button>\n",
              "\n",
              "<style>\n",
              "  .colab-df-quickchart {\n",
              "      --bg-color: #E8F0FE;\n",
              "      --fill-color: #1967D2;\n",
              "      --hover-bg-color: #E2EBFA;\n",
              "      --hover-fill-color: #174EA6;\n",
              "      --disabled-fill-color: #AAA;\n",
              "      --disabled-bg-color: #DDD;\n",
              "  }\n",
              "\n",
              "  [theme=dark] .colab-df-quickchart {\n",
              "      --bg-color: #3B4455;\n",
              "      --fill-color: #D2E3FC;\n",
              "      --hover-bg-color: #434B5C;\n",
              "      --hover-fill-color: #FFFFFF;\n",
              "      --disabled-bg-color: #3B4455;\n",
              "      --disabled-fill-color: #666;\n",
              "  }\n",
              "\n",
              "  .colab-df-quickchart {\n",
              "    background-color: var(--bg-color);\n",
              "    border: none;\n",
              "    border-radius: 50%;\n",
              "    cursor: pointer;\n",
              "    display: none;\n",
              "    fill: var(--fill-color);\n",
              "    height: 32px;\n",
              "    padding: 0;\n",
              "    width: 32px;\n",
              "  }\n",
              "\n",
              "  .colab-df-quickchart:hover {\n",
              "    background-color: var(--hover-bg-color);\n",
              "    box-shadow: 0 1px 2px rgba(60, 64, 67, 0.3), 0 1px 3px 1px rgba(60, 64, 67, 0.15);\n",
              "    fill: var(--button-hover-fill-color);\n",
              "  }\n",
              "\n",
              "  .colab-df-quickchart-complete:disabled,\n",
              "  .colab-df-quickchart-complete:disabled:hover {\n",
              "    background-color: var(--disabled-bg-color);\n",
              "    fill: var(--disabled-fill-color);\n",
              "    box-shadow: none;\n",
              "  }\n",
              "\n",
              "  .colab-df-spinner {\n",
              "    border: 2px solid var(--fill-color);\n",
              "    border-color: transparent;\n",
              "    border-bottom-color: var(--fill-color);\n",
              "    animation:\n",
              "      spin 1s steps(1) infinite;\n",
              "  }\n",
              "\n",
              "  @keyframes spin {\n",
              "    0% {\n",
              "      border-color: transparent;\n",
              "      border-bottom-color: var(--fill-color);\n",
              "      border-left-color: var(--fill-color);\n",
              "    }\n",
              "    20% {\n",
              "      border-color: transparent;\n",
              "      border-left-color: var(--fill-color);\n",
              "      border-top-color: var(--fill-color);\n",
              "    }\n",
              "    30% {\n",
              "      border-color: transparent;\n",
              "      border-left-color: var(--fill-color);\n",
              "      border-top-color: var(--fill-color);\n",
              "      border-right-color: var(--fill-color);\n",
              "    }\n",
              "    40% {\n",
              "      border-color: transparent;\n",
              "      border-right-color: var(--fill-color);\n",
              "      border-top-color: var(--fill-color);\n",
              "    }\n",
              "    60% {\n",
              "      border-color: transparent;\n",
              "      border-right-color: var(--fill-color);\n",
              "    }\n",
              "    80% {\n",
              "      border-color: transparent;\n",
              "      border-right-color: var(--fill-color);\n",
              "      border-bottom-color: var(--fill-color);\n",
              "    }\n",
              "    90% {\n",
              "      border-color: transparent;\n",
              "      border-bottom-color: var(--fill-color);\n",
              "    }\n",
              "  }\n",
              "</style>\n",
              "\n",
              "  <script>\n",
              "    async function quickchart(key) {\n",
              "      const quickchartButtonEl =\n",
              "        document.querySelector('#' + key + ' button');\n",
              "      quickchartButtonEl.disabled = true;  // To prevent multiple clicks.\n",
              "      quickchartButtonEl.classList.add('colab-df-spinner');\n",
              "      try {\n",
              "        const charts = await google.colab.kernel.invokeFunction(\n",
              "            'suggestCharts', [key], {});\n",
              "      } catch (error) {\n",
              "        console.error('Error during call to suggestCharts:', error);\n",
              "      }\n",
              "      quickchartButtonEl.classList.remove('colab-df-spinner');\n",
              "      quickchartButtonEl.classList.add('colab-df-quickchart-complete');\n",
              "    }\n",
              "    (() => {\n",
              "      let quickchartButtonEl =\n",
              "        document.querySelector('#df-0cf0ea79-594c-4732-9cfc-63c16cd8689b button');\n",
              "      quickchartButtonEl.style.display =\n",
              "        google.colab.kernel.accessAllowed ? 'block' : 'none';\n",
              "    })();\n",
              "  </script>\n",
              "</div>\n",
              "\n",
              "    </div>\n",
              "  </div>\n"
            ],
            "application/vnd.google.colaboratory.intrinsic+json": {
              "type": "dataframe",
              "variable_name": "df",
              "summary": "{\n  \"name\": \"df\",\n  \"rows\": 4,\n  \"fields\": [\n    {\n      \"column\": \"Feedback Index\",\n      \"properties\": {\n        \"dtype\": \"number\",\n        \"std\": 1,\n        \"min\": 1,\n        \"max\": 4,\n        \"num_unique_values\": 4,\n        \"samples\": [\n          2,\n          4,\n          1\n        ],\n        \"semantic_type\": \"\",\n        \"description\": \"\"\n      }\n    },\n    {\n      \"column\": \"Sentiment Polarity\",\n      \"properties\": {\n        \"dtype\": \"number\",\n        \"std\": 0.5733392193304117,\n        \"min\": -0.75,\n        \"max\": 0.484090909090909,\n        \"num_unique_values\": 4,\n        \"samples\": [\n          0.1363636363636363,\n          -0.75,\n          0.4416666666666666\n        ],\n        \"semantic_type\": \"\",\n        \"description\": \"\"\n      }\n    },\n    {\n      \"column\": \"Sentiment Subjectivity\",\n      \"properties\": {\n        \"dtype\": \"number\",\n        \"std\": 0.13974256983521738,\n        \"min\": 0.4545454545454545,\n        \"max\": 0.7511363636363636,\n        \"num_unique_values\": 4,\n        \"samples\": [\n          0.4545454545454545,\n          0.75,\n          0.6666666666666666\n        ],\n        \"semantic_type\": \"\",\n        \"description\": \"\"\n      }\n    },\n    {\n      \"column\": \"Named Entities\",\n      \"properties\": {\n        \"dtype\": \"string\",\n        \"num_unique_values\": 4,\n        \"samples\": [\n          \"[('New York', 'GPE')]\",\n          \"[('Chicago', 'GPE')]\",\n          \"[('Los Angeles', 'GPE')]\"\n        ],\n        \"semantic_type\": \"\",\n        \"description\": \"\"\n      }\n    },\n    {\n      \"column\": \"Preferred Contact Method\",\n      \"properties\": {\n        \"dtype\": \"string\",\n        \"num_unique_values\": 2,\n        \"samples\": [\n          \"chat\",\n          \"email\"\n        ],\n        \"semantic_type\": \"\",\n        \"description\": \"\"\n      }\n    }\n  ]\n}"
            }
          },
          "metadata": {},
          "execution_count": 3
        }
      ],
      "source": [
        "##Load results file into a Pandas Dataframe\n",
        "\n",
        "# Load data into a Pandas DataFrame\n",
        "df = pd.read_csv('/content/feedback_analysis_results.csv')\n",
        "\n",
        "# Display the DataFrame\n",
        "df.head()\n"
      ]
    },
    {
      "cell_type": "code",
      "execution_count": 4,
      "metadata": {
        "id": "CP2J1lkwnyYL",
        "colab": {
          "base_uri": "https://localhost:8080/"
        },
        "outputId": "934609e1-2538-49bf-b586-b03f4684688e"
      },
      "outputs": [
        {
          "output_type": "stream",
          "name": "stdout",
          "text": [
            "<class 'pandas.core.frame.DataFrame'>\n",
            "RangeIndex: 4 entries, 0 to 3\n",
            "Data columns (total 5 columns):\n",
            " #   Column                    Non-Null Count  Dtype  \n",
            "---  ------                    --------------  -----  \n",
            " 0   Feedback Index            4 non-null      int64  \n",
            " 1   Sentiment Polarity        4 non-null      float64\n",
            " 2   Sentiment Subjectivity    4 non-null      float64\n",
            " 3   Named Entities            4 non-null      object \n",
            " 4   Preferred Contact Method  4 non-null      object \n",
            "dtypes: float64(2), int64(1), object(2)\n",
            "memory usage: 288.0+ bytes\n"
          ]
        }
      ],
      "source": [
        "df.info()"
      ]
    },
    {
      "cell_type": "markdown",
      "source": [
        "##Plot the Preferred Contact Method"
      ],
      "metadata": {
        "id": "HPcHpaS5nb2k"
      }
    },
    {
      "cell_type": "code",
      "source": [
        "# Example plot: Preferred Contact Method Count\n",
        "plt.figure(figsize=(10, 6))\n",
        "sns.countplot(data=df, x='Preferred Contact Method', palette='muted')\n",
        "plt.title('Preferred Contact Method Count')\n",
        "plt.xlabel('Preferred Contact Method')\n",
        "plt.ylabel('Count')\n",
        "plt.show()"
      ],
      "metadata": {
        "id": "1LKkuGxtfDOt",
        "colab": {
          "base_uri": "https://localhost:8080/",
          "height": 671
        },
        "outputId": "f637ee60-99eb-4d6d-9ff7-ca6e7f7f3929"
      },
      "execution_count": 6,
      "outputs": [
        {
          "output_type": "stream",
          "name": "stderr",
          "text": [
            "<ipython-input-6-230c76658324>:3: FutureWarning: \n",
            "\n",
            "Passing `palette` without assigning `hue` is deprecated and will be removed in v0.14.0. Assign the `x` variable to `hue` and set `legend=False` for the same effect.\n",
            "\n",
            "  sns.countplot(data=df, x='Preferred Contact Method', palette='muted')\n"
          ]
        },
        {
          "output_type": "display_data",
          "data": {
            "text/plain": [
              "<Figure size 1000x600 with 1 Axes>"
            ],
            "image/png": "[encoded data removed]"
          },
          "metadata": {}
        }
      ]
    },
    {
      "cell_type": "markdown",
      "source": [
        "##Plot the Sentiment Polarity and Sentiment Subjectivity"
      ],
      "metadata": {
        "id": "1ZN_mzufnh0S"
      }
    },
    {
      "cell_type": "code",
      "source": [
        "# Pair Plot: Pairwise relationships\n",
        "sns.pairplot(data=df[['Sentiment Polarity', 'Sentiment Subjectivity']],\n",
        "             diag_kind='kde')\n",
        "plt.suptitle('Pair Plot: Pairwise relationships')\n",
        "plt.show()"
      ],
      "metadata": {
        "id": "WjYn8tEjgivQ",
        "colab": {
          "base_uri": "https://localhost:8080/",
          "height": 515
        },
        "outputId": "4b506cdc-4ce0-4f16-bf15-a5234f39da97"
      },
      "execution_count": 7,
      "outputs": [
        {
          "output_type": "display_data",
          "data": {
            "text/plain": [
              "<Figure size 500x500 with 6 Axes>"
            ],
            "image/png": "[encoded data removed]"
          },
          "metadata": {}
        }
      ]
    }
  ],
  "metadata": {
    "colab": {
      "provenance": []
    },
    "kernelspec": {
      "display_name": "Python 3",
      "name": "python3"
    },
    "language_info": {
      "name": "python"
    }
  },
  "nbformat": 4,
  "nbformat_minor": 0
}
